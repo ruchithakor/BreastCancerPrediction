{
 "cells": [
  {
   "cell_type": "markdown",
   "metadata": {},
   "source": [
    "## Breast Cnacer Prediction"
   ]
  },
  {
   "cell_type": "markdown",
   "metadata": {},
   "source": [
    "### 1. Load libraries"
   ]
  },
  {
   "cell_type": "code",
   "execution_count": 1,
   "metadata": {
    "scrolled": true
   },
   "outputs": [],
   "source": [
    "#import all the libraries used \n",
    "import pandas as pd\n",
    "import numpy as np\n",
    "\n",
    "import seaborn as sns\n",
    "import matplotlib.pyplot as plt\n",
    "\n",
    "from scipy import stats\n",
    "from sklearn.preprocessing import StandardScaler\n",
    "from sklearn.model_selection import train_test_split\n",
    "from sklearn.metrics import confusion_matrix"
   ]
  },
  {
   "cell_type": "markdown",
   "metadata": {},
   "source": [
    "### 2. Load Data "
   ]
  },
  {
   "cell_type": "code",
   "execution_count": 2,
   "metadata": {
    "scrolled": true
   },
   "outputs": [
    {
     "data": {
      "text/html": [
       "<div>\n",
       "<style scoped>\n",
       "    .dataframe tbody tr th:only-of-type {\n",
       "        vertical-align: middle;\n",
       "    }\n",
       "\n",
       "    .dataframe tbody tr th {\n",
       "        vertical-align: top;\n",
       "    }\n",
       "\n",
       "    .dataframe thead th {\n",
       "        text-align: right;\n",
       "    }\n",
       "</style>\n",
       "<table border=\"1\" class=\"dataframe\">\n",
       "  <thead>\n",
       "    <tr style=\"text-align: right;\">\n",
       "      <th></th>\n",
       "      <th>id</th>\n",
       "      <th>diagnosis</th>\n",
       "      <th>radius_mean</th>\n",
       "      <th>texture_mean</th>\n",
       "      <th>perimeter_mean</th>\n",
       "      <th>area_mean</th>\n",
       "      <th>smoothness_mean</th>\n",
       "      <th>compactness_mean</th>\n",
       "      <th>concavity_mean</th>\n",
       "      <th>concave points_mean</th>\n",
       "      <th>...</th>\n",
       "      <th>texture_worst</th>\n",
       "      <th>perimeter_worst</th>\n",
       "      <th>area_worst</th>\n",
       "      <th>smoothness_worst</th>\n",
       "      <th>compactness_worst</th>\n",
       "      <th>concavity_worst</th>\n",
       "      <th>concave points_worst</th>\n",
       "      <th>symmetry_worst</th>\n",
       "      <th>fractal_dimension_worst</th>\n",
       "      <th>Unnamed: 32</th>\n",
       "    </tr>\n",
       "  </thead>\n",
       "  <tbody>\n",
       "    <tr>\n",
       "      <th>0</th>\n",
       "      <td>842302</td>\n",
       "      <td>M</td>\n",
       "      <td>17.99</td>\n",
       "      <td>10.38</td>\n",
       "      <td>122.80</td>\n",
       "      <td>1001.0</td>\n",
       "      <td>0.11840</td>\n",
       "      <td>0.27760</td>\n",
       "      <td>0.3001</td>\n",
       "      <td>0.14710</td>\n",
       "      <td>...</td>\n",
       "      <td>17.33</td>\n",
       "      <td>184.60</td>\n",
       "      <td>2019.0</td>\n",
       "      <td>0.1622</td>\n",
       "      <td>0.6656</td>\n",
       "      <td>0.7119</td>\n",
       "      <td>0.2654</td>\n",
       "      <td>0.4601</td>\n",
       "      <td>0.11890</td>\n",
       "      <td>NaN</td>\n",
       "    </tr>\n",
       "    <tr>\n",
       "      <th>1</th>\n",
       "      <td>842517</td>\n",
       "      <td>M</td>\n",
       "      <td>20.57</td>\n",
       "      <td>17.77</td>\n",
       "      <td>132.90</td>\n",
       "      <td>1326.0</td>\n",
       "      <td>0.08474</td>\n",
       "      <td>0.07864</td>\n",
       "      <td>0.0869</td>\n",
       "      <td>0.07017</td>\n",
       "      <td>...</td>\n",
       "      <td>23.41</td>\n",
       "      <td>158.80</td>\n",
       "      <td>1956.0</td>\n",
       "      <td>0.1238</td>\n",
       "      <td>0.1866</td>\n",
       "      <td>0.2416</td>\n",
       "      <td>0.1860</td>\n",
       "      <td>0.2750</td>\n",
       "      <td>0.08902</td>\n",
       "      <td>NaN</td>\n",
       "    </tr>\n",
       "    <tr>\n",
       "      <th>2</th>\n",
       "      <td>84300903</td>\n",
       "      <td>M</td>\n",
       "      <td>19.69</td>\n",
       "      <td>21.25</td>\n",
       "      <td>130.00</td>\n",
       "      <td>1203.0</td>\n",
       "      <td>0.10960</td>\n",
       "      <td>0.15990</td>\n",
       "      <td>0.1974</td>\n",
       "      <td>0.12790</td>\n",
       "      <td>...</td>\n",
       "      <td>25.53</td>\n",
       "      <td>152.50</td>\n",
       "      <td>1709.0</td>\n",
       "      <td>0.1444</td>\n",
       "      <td>0.4245</td>\n",
       "      <td>0.4504</td>\n",
       "      <td>0.2430</td>\n",
       "      <td>0.3613</td>\n",
       "      <td>0.08758</td>\n",
       "      <td>NaN</td>\n",
       "    </tr>\n",
       "    <tr>\n",
       "      <th>3</th>\n",
       "      <td>84348301</td>\n",
       "      <td>M</td>\n",
       "      <td>11.42</td>\n",
       "      <td>20.38</td>\n",
       "      <td>77.58</td>\n",
       "      <td>386.1</td>\n",
       "      <td>0.14250</td>\n",
       "      <td>0.28390</td>\n",
       "      <td>0.2414</td>\n",
       "      <td>0.10520</td>\n",
       "      <td>...</td>\n",
       "      <td>26.50</td>\n",
       "      <td>98.87</td>\n",
       "      <td>567.7</td>\n",
       "      <td>0.2098</td>\n",
       "      <td>0.8663</td>\n",
       "      <td>0.6869</td>\n",
       "      <td>0.2575</td>\n",
       "      <td>0.6638</td>\n",
       "      <td>0.17300</td>\n",
       "      <td>NaN</td>\n",
       "    </tr>\n",
       "    <tr>\n",
       "      <th>4</th>\n",
       "      <td>84358402</td>\n",
       "      <td>M</td>\n",
       "      <td>20.29</td>\n",
       "      <td>14.34</td>\n",
       "      <td>135.10</td>\n",
       "      <td>1297.0</td>\n",
       "      <td>0.10030</td>\n",
       "      <td>0.13280</td>\n",
       "      <td>0.1980</td>\n",
       "      <td>0.10430</td>\n",
       "      <td>...</td>\n",
       "      <td>16.67</td>\n",
       "      <td>152.20</td>\n",
       "      <td>1575.0</td>\n",
       "      <td>0.1374</td>\n",
       "      <td>0.2050</td>\n",
       "      <td>0.4000</td>\n",
       "      <td>0.1625</td>\n",
       "      <td>0.2364</td>\n",
       "      <td>0.07678</td>\n",
       "      <td>NaN</td>\n",
       "    </tr>\n",
       "  </tbody>\n",
       "</table>\n",
       "<p>5 rows × 33 columns</p>\n",
       "</div>"
      ],
      "text/plain": [
       "         id diagnosis  radius_mean  texture_mean  perimeter_mean  area_mean  \\\n",
       "0    842302         M        17.99         10.38          122.80     1001.0   \n",
       "1    842517         M        20.57         17.77          132.90     1326.0   \n",
       "2  84300903         M        19.69         21.25          130.00     1203.0   \n",
       "3  84348301         M        11.42         20.38           77.58      386.1   \n",
       "4  84358402         M        20.29         14.34          135.10     1297.0   \n",
       "\n",
       "   smoothness_mean  compactness_mean  concavity_mean  concave points_mean  \\\n",
       "0          0.11840           0.27760          0.3001              0.14710   \n",
       "1          0.08474           0.07864          0.0869              0.07017   \n",
       "2          0.10960           0.15990          0.1974              0.12790   \n",
       "3          0.14250           0.28390          0.2414              0.10520   \n",
       "4          0.10030           0.13280          0.1980              0.10430   \n",
       "\n",
       "   ...  texture_worst  perimeter_worst  area_worst  smoothness_worst  \\\n",
       "0  ...          17.33           184.60      2019.0            0.1622   \n",
       "1  ...          23.41           158.80      1956.0            0.1238   \n",
       "2  ...          25.53           152.50      1709.0            0.1444   \n",
       "3  ...          26.50            98.87       567.7            0.2098   \n",
       "4  ...          16.67           152.20      1575.0            0.1374   \n",
       "\n",
       "   compactness_worst  concavity_worst  concave points_worst  symmetry_worst  \\\n",
       "0             0.6656           0.7119                0.2654          0.4601   \n",
       "1             0.1866           0.2416                0.1860          0.2750   \n",
       "2             0.4245           0.4504                0.2430          0.3613   \n",
       "3             0.8663           0.6869                0.2575          0.6638   \n",
       "4             0.2050           0.4000                0.1625          0.2364   \n",
       "\n",
       "   fractal_dimension_worst  Unnamed: 32  \n",
       "0                  0.11890          NaN  \n",
       "1                  0.08902          NaN  \n",
       "2                  0.08758          NaN  \n",
       "3                  0.17300          NaN  \n",
       "4                  0.07678          NaN  \n",
       "\n",
       "[5 rows x 33 columns]"
      ]
     },
     "execution_count": 2,
     "metadata": {},
     "output_type": "execute_result"
    }
   ],
   "source": [
    "#load the dataset using read_csv from pandas library\n",
    "df = pd.read_csv(\"breast_cancer_data.csv\")\n",
    "\n",
    "#first few rows of data to get basic idea of dataset\n",
    "df.head()"
   ]
  },
  {
   "cell_type": "markdown",
   "metadata": {},
   "source": [
    "### 3. Clean and prepare the data"
   ]
  },
  {
   "cell_type": "code",
   "execution_count": 3,
   "metadata": {
    "scrolled": true
   },
   "outputs": [],
   "source": [
    "# from the df.head() output we can see that there is one \"unnnaamed\" column with NAN values. also the column \"id\" is not \n",
    "# useful for analysis. So, we will remove both the columns\n",
    "\n",
    "df.drop( columns = ['id', 'Unnamed: 32'], inplace = True )"
   ]
  },
  {
   "cell_type": "code",
   "execution_count": 4,
   "metadata": {
    "scrolled": true
   },
   "outputs": [
    {
     "data": {
      "text/plain": [
       "(569, 31)"
      ]
     },
     "execution_count": 4,
     "metadata": {},
     "output_type": "execute_result"
    }
   ],
   "source": [
    "#check the shape od dataframe\n",
    "df.shape"
   ]
  },
  {
   "cell_type": "code",
   "execution_count": 5,
   "metadata": {
    "scrolled": true
   },
   "outputs": [
    {
     "data": {
      "text/html": [
       "<div>\n",
       "<style scoped>\n",
       "    .dataframe tbody tr th:only-of-type {\n",
       "        vertical-align: middle;\n",
       "    }\n",
       "\n",
       "    .dataframe tbody tr th {\n",
       "        vertical-align: top;\n",
       "    }\n",
       "\n",
       "    .dataframe thead th {\n",
       "        text-align: right;\n",
       "    }\n",
       "</style>\n",
       "<table border=\"1\" class=\"dataframe\">\n",
       "  <thead>\n",
       "    <tr style=\"text-align: right;\">\n",
       "      <th></th>\n",
       "      <th>diagnosis</th>\n",
       "      <th>radius_mean</th>\n",
       "      <th>texture_mean</th>\n",
       "      <th>perimeter_mean</th>\n",
       "      <th>area_mean</th>\n",
       "      <th>smoothness_mean</th>\n",
       "      <th>compactness_mean</th>\n",
       "      <th>concavity_mean</th>\n",
       "      <th>concave points_mean</th>\n",
       "      <th>symmetry_mean</th>\n",
       "      <th>...</th>\n",
       "      <th>radius_worst</th>\n",
       "      <th>texture_worst</th>\n",
       "      <th>perimeter_worst</th>\n",
       "      <th>area_worst</th>\n",
       "      <th>smoothness_worst</th>\n",
       "      <th>compactness_worst</th>\n",
       "      <th>concavity_worst</th>\n",
       "      <th>concave points_worst</th>\n",
       "      <th>symmetry_worst</th>\n",
       "      <th>fractal_dimension_worst</th>\n",
       "    </tr>\n",
       "  </thead>\n",
       "  <tbody>\n",
       "    <tr>\n",
       "      <th>0</th>\n",
       "      <td>M</td>\n",
       "      <td>17.99</td>\n",
       "      <td>10.38</td>\n",
       "      <td>122.80</td>\n",
       "      <td>1001.0</td>\n",
       "      <td>0.11840</td>\n",
       "      <td>0.27760</td>\n",
       "      <td>0.3001</td>\n",
       "      <td>0.14710</td>\n",
       "      <td>0.2419</td>\n",
       "      <td>...</td>\n",
       "      <td>25.38</td>\n",
       "      <td>17.33</td>\n",
       "      <td>184.60</td>\n",
       "      <td>2019.0</td>\n",
       "      <td>0.1622</td>\n",
       "      <td>0.6656</td>\n",
       "      <td>0.7119</td>\n",
       "      <td>0.2654</td>\n",
       "      <td>0.4601</td>\n",
       "      <td>0.11890</td>\n",
       "    </tr>\n",
       "    <tr>\n",
       "      <th>1</th>\n",
       "      <td>M</td>\n",
       "      <td>20.57</td>\n",
       "      <td>17.77</td>\n",
       "      <td>132.90</td>\n",
       "      <td>1326.0</td>\n",
       "      <td>0.08474</td>\n",
       "      <td>0.07864</td>\n",
       "      <td>0.0869</td>\n",
       "      <td>0.07017</td>\n",
       "      <td>0.1812</td>\n",
       "      <td>...</td>\n",
       "      <td>24.99</td>\n",
       "      <td>23.41</td>\n",
       "      <td>158.80</td>\n",
       "      <td>1956.0</td>\n",
       "      <td>0.1238</td>\n",
       "      <td>0.1866</td>\n",
       "      <td>0.2416</td>\n",
       "      <td>0.1860</td>\n",
       "      <td>0.2750</td>\n",
       "      <td>0.08902</td>\n",
       "    </tr>\n",
       "    <tr>\n",
       "      <th>2</th>\n",
       "      <td>M</td>\n",
       "      <td>19.69</td>\n",
       "      <td>21.25</td>\n",
       "      <td>130.00</td>\n",
       "      <td>1203.0</td>\n",
       "      <td>0.10960</td>\n",
       "      <td>0.15990</td>\n",
       "      <td>0.1974</td>\n",
       "      <td>0.12790</td>\n",
       "      <td>0.2069</td>\n",
       "      <td>...</td>\n",
       "      <td>23.57</td>\n",
       "      <td>25.53</td>\n",
       "      <td>152.50</td>\n",
       "      <td>1709.0</td>\n",
       "      <td>0.1444</td>\n",
       "      <td>0.4245</td>\n",
       "      <td>0.4504</td>\n",
       "      <td>0.2430</td>\n",
       "      <td>0.3613</td>\n",
       "      <td>0.08758</td>\n",
       "    </tr>\n",
       "    <tr>\n",
       "      <th>3</th>\n",
       "      <td>M</td>\n",
       "      <td>11.42</td>\n",
       "      <td>20.38</td>\n",
       "      <td>77.58</td>\n",
       "      <td>386.1</td>\n",
       "      <td>0.14250</td>\n",
       "      <td>0.28390</td>\n",
       "      <td>0.2414</td>\n",
       "      <td>0.10520</td>\n",
       "      <td>0.2597</td>\n",
       "      <td>...</td>\n",
       "      <td>14.91</td>\n",
       "      <td>26.50</td>\n",
       "      <td>98.87</td>\n",
       "      <td>567.7</td>\n",
       "      <td>0.2098</td>\n",
       "      <td>0.8663</td>\n",
       "      <td>0.6869</td>\n",
       "      <td>0.2575</td>\n",
       "      <td>0.6638</td>\n",
       "      <td>0.17300</td>\n",
       "    </tr>\n",
       "    <tr>\n",
       "      <th>4</th>\n",
       "      <td>M</td>\n",
       "      <td>20.29</td>\n",
       "      <td>14.34</td>\n",
       "      <td>135.10</td>\n",
       "      <td>1297.0</td>\n",
       "      <td>0.10030</td>\n",
       "      <td>0.13280</td>\n",
       "      <td>0.1980</td>\n",
       "      <td>0.10430</td>\n",
       "      <td>0.1809</td>\n",
       "      <td>...</td>\n",
       "      <td>22.54</td>\n",
       "      <td>16.67</td>\n",
       "      <td>152.20</td>\n",
       "      <td>1575.0</td>\n",
       "      <td>0.1374</td>\n",
       "      <td>0.2050</td>\n",
       "      <td>0.4000</td>\n",
       "      <td>0.1625</td>\n",
       "      <td>0.2364</td>\n",
       "      <td>0.07678</td>\n",
       "    </tr>\n",
       "  </tbody>\n",
       "</table>\n",
       "<p>5 rows × 31 columns</p>\n",
       "</div>"
      ],
      "text/plain": [
       "  diagnosis  radius_mean  texture_mean  perimeter_mean  area_mean  \\\n",
       "0         M        17.99         10.38          122.80     1001.0   \n",
       "1         M        20.57         17.77          132.90     1326.0   \n",
       "2         M        19.69         21.25          130.00     1203.0   \n",
       "3         M        11.42         20.38           77.58      386.1   \n",
       "4         M        20.29         14.34          135.10     1297.0   \n",
       "\n",
       "   smoothness_mean  compactness_mean  concavity_mean  concave points_mean  \\\n",
       "0          0.11840           0.27760          0.3001              0.14710   \n",
       "1          0.08474           0.07864          0.0869              0.07017   \n",
       "2          0.10960           0.15990          0.1974              0.12790   \n",
       "3          0.14250           0.28390          0.2414              0.10520   \n",
       "4          0.10030           0.13280          0.1980              0.10430   \n",
       "\n",
       "   symmetry_mean  ...  radius_worst  texture_worst  perimeter_worst  \\\n",
       "0         0.2419  ...         25.38          17.33           184.60   \n",
       "1         0.1812  ...         24.99          23.41           158.80   \n",
       "2         0.2069  ...         23.57          25.53           152.50   \n",
       "3         0.2597  ...         14.91          26.50            98.87   \n",
       "4         0.1809  ...         22.54          16.67           152.20   \n",
       "\n",
       "   area_worst  smoothness_worst  compactness_worst  concavity_worst  \\\n",
       "0      2019.0            0.1622             0.6656           0.7119   \n",
       "1      1956.0            0.1238             0.1866           0.2416   \n",
       "2      1709.0            0.1444             0.4245           0.4504   \n",
       "3       567.7            0.2098             0.8663           0.6869   \n",
       "4      1575.0            0.1374             0.2050           0.4000   \n",
       "\n",
       "   concave points_worst  symmetry_worst  fractal_dimension_worst  \n",
       "0                0.2654          0.4601                  0.11890  \n",
       "1                0.1860          0.2750                  0.08902  \n",
       "2                0.2430          0.3613                  0.08758  \n",
       "3                0.2575          0.6638                  0.17300  \n",
       "4                0.1625          0.2364                  0.07678  \n",
       "\n",
       "[5 rows x 31 columns]"
      ]
     },
     "execution_count": 5,
     "metadata": {},
     "output_type": "execute_result"
    }
   ],
   "source": [
    "# we have 569 samples and 31 columns. \n",
    "# Out of 31 columns 30 are mean, standard error and extreme values of ten features calculated of each sample cells.\n",
    "# one column - diagnosis is the variable that we will predict.\n",
    "df.head()"
   ]
  },
  {
   "cell_type": "code",
   "execution_count": 6,
   "metadata": {
    "scrolled": true
   },
   "outputs": [
    {
     "data": {
      "text/plain": [
       "diagnosis                  0\n",
       "radius_mean                0\n",
       "texture_mean               0\n",
       "perimeter_mean             0\n",
       "area_mean                  0\n",
       "smoothness_mean            0\n",
       "compactness_mean           0\n",
       "concavity_mean             0\n",
       "concave points_mean        0\n",
       "symmetry_mean              0\n",
       "fractal_dimension_mean     0\n",
       "radius_se                  0\n",
       "texture_se                 0\n",
       "perimeter_se               0\n",
       "area_se                    0\n",
       "smoothness_se              0\n",
       "compactness_se             0\n",
       "concavity_se               0\n",
       "concave points_se          0\n",
       "symmetry_se                0\n",
       "fractal_dimension_se       0\n",
       "radius_worst               0\n",
       "texture_worst              0\n",
       "perimeter_worst            0\n",
       "area_worst                 0\n",
       "smoothness_worst           0\n",
       "compactness_worst          0\n",
       "concavity_worst            0\n",
       "concave points_worst       0\n",
       "symmetry_worst             0\n",
       "fractal_dimension_worst    0\n",
       "dtype: int64"
      ]
     },
     "execution_count": 6,
     "metadata": {},
     "output_type": "execute_result"
    }
   ],
   "source": [
    "# Check for missing or null data points\n",
    "df.isnull().sum()"
   ]
  },
  {
   "cell_type": "code",
   "execution_count": 7,
   "metadata": {
    "scrolled": true
   },
   "outputs": [
    {
     "data": {
      "text/plain": [
       "diagnosis                  0\n",
       "radius_mean                0\n",
       "texture_mean               0\n",
       "perimeter_mean             0\n",
       "area_mean                  0\n",
       "smoothness_mean            0\n",
       "compactness_mean           0\n",
       "concavity_mean             0\n",
       "concave points_mean        0\n",
       "symmetry_mean              0\n",
       "fractal_dimension_mean     0\n",
       "radius_se                  0\n",
       "texture_se                 0\n",
       "perimeter_se               0\n",
       "area_se                    0\n",
       "smoothness_se              0\n",
       "compactness_se             0\n",
       "concavity_se               0\n",
       "concave points_se          0\n",
       "symmetry_se                0\n",
       "fractal_dimension_se       0\n",
       "radius_worst               0\n",
       "texture_worst              0\n",
       "perimeter_worst            0\n",
       "area_worst                 0\n",
       "smoothness_worst           0\n",
       "compactness_worst          0\n",
       "concavity_worst            0\n",
       "concave points_worst       0\n",
       "symmetry_worst             0\n",
       "fractal_dimension_worst    0\n",
       "dtype: int64"
      ]
     },
     "execution_count": 7,
     "metadata": {},
     "output_type": "execute_result"
    }
   ],
   "source": [
    "df.isna().sum()"
   ]
  },
  {
   "cell_type": "code",
   "execution_count": 8,
   "metadata": {
    "scrolled": true
   },
   "outputs": [],
   "source": [
    "# From the results we can see that there are no missing values ot null values in the dataset"
   ]
  },
  {
   "cell_type": "markdown",
   "metadata": {},
   "source": [
    "#### Categorical data"
   ]
  },
  {
   "cell_type": "code",
   "execution_count": 9,
   "metadata": {
    "scrolled": true
   },
   "outputs": [
    {
     "name": "stdout",
     "output_type": "stream",
     "text": [
      "['M' 'B']\n"
     ]
    },
    {
     "data": {
      "text/html": [
       "<div>\n",
       "<style scoped>\n",
       "    .dataframe tbody tr th:only-of-type {\n",
       "        vertical-align: middle;\n",
       "    }\n",
       "\n",
       "    .dataframe tbody tr th {\n",
       "        vertical-align: top;\n",
       "    }\n",
       "\n",
       "    .dataframe thead th {\n",
       "        text-align: right;\n",
       "    }\n",
       "</style>\n",
       "<table border=\"1\" class=\"dataframe\">\n",
       "  <thead>\n",
       "    <tr style=\"text-align: right;\">\n",
       "      <th></th>\n",
       "      <th>diagnosis</th>\n",
       "    </tr>\n",
       "  </thead>\n",
       "  <tbody>\n",
       "    <tr>\n",
       "      <th>B</th>\n",
       "      <td>357</td>\n",
       "    </tr>\n",
       "    <tr>\n",
       "      <th>M</th>\n",
       "      <td>212</td>\n",
       "    </tr>\n",
       "  </tbody>\n",
       "</table>\n",
       "</div>"
      ],
      "text/plain": [
       "   diagnosis\n",
       "B        357\n",
       "M        212"
      ]
     },
     "execution_count": 9,
     "metadata": {},
     "output_type": "execute_result"
    }
   ],
   "source": [
    "print(df.diagnosis.unique())\n",
    "df['diagnosis'].value_counts().to_frame()\n",
    "# We can see that out of 569 samples we have 212 samples with malignant breast cancer and 357 with benign"
   ]
  },
  {
   "cell_type": "code",
   "execution_count": 10,
   "metadata": {
    "scrolled": true
   },
   "outputs": [
    {
     "data": {
      "text/html": [
       "<div>\n",
       "<style scoped>\n",
       "    .dataframe tbody tr th:only-of-type {\n",
       "        vertical-align: middle;\n",
       "    }\n",
       "\n",
       "    .dataframe tbody tr th {\n",
       "        vertical-align: top;\n",
       "    }\n",
       "\n",
       "    .dataframe thead th {\n",
       "        text-align: right;\n",
       "    }\n",
       "</style>\n",
       "<table border=\"1\" class=\"dataframe\">\n",
       "  <thead>\n",
       "    <tr style=\"text-align: right;\">\n",
       "      <th></th>\n",
       "      <th>radius_mean</th>\n",
       "      <th>texture_mean</th>\n",
       "      <th>perimeter_mean</th>\n",
       "      <th>area_mean</th>\n",
       "      <th>smoothness_mean</th>\n",
       "      <th>compactness_mean</th>\n",
       "      <th>concavity_mean</th>\n",
       "      <th>concave points_mean</th>\n",
       "      <th>symmetry_mean</th>\n",
       "      <th>fractal_dimension_mean</th>\n",
       "      <th>...</th>\n",
       "      <th>radius_worst</th>\n",
       "      <th>texture_worst</th>\n",
       "      <th>perimeter_worst</th>\n",
       "      <th>area_worst</th>\n",
       "      <th>smoothness_worst</th>\n",
       "      <th>compactness_worst</th>\n",
       "      <th>concavity_worst</th>\n",
       "      <th>concave points_worst</th>\n",
       "      <th>symmetry_worst</th>\n",
       "      <th>fractal_dimension_worst</th>\n",
       "    </tr>\n",
       "  </thead>\n",
       "  <tbody>\n",
       "    <tr>\n",
       "      <th>count</th>\n",
       "      <td>569.000000</td>\n",
       "      <td>569.000000</td>\n",
       "      <td>569.000000</td>\n",
       "      <td>569.000000</td>\n",
       "      <td>569.000000</td>\n",
       "      <td>569.000000</td>\n",
       "      <td>569.000000</td>\n",
       "      <td>569.000000</td>\n",
       "      <td>569.000000</td>\n",
       "      <td>569.000000</td>\n",
       "      <td>...</td>\n",
       "      <td>569.000000</td>\n",
       "      <td>569.000000</td>\n",
       "      <td>569.000000</td>\n",
       "      <td>569.000000</td>\n",
       "      <td>569.000000</td>\n",
       "      <td>569.000000</td>\n",
       "      <td>569.000000</td>\n",
       "      <td>569.000000</td>\n",
       "      <td>569.000000</td>\n",
       "      <td>569.000000</td>\n",
       "    </tr>\n",
       "    <tr>\n",
       "      <th>mean</th>\n",
       "      <td>14.127292</td>\n",
       "      <td>19.289649</td>\n",
       "      <td>91.969033</td>\n",
       "      <td>654.889104</td>\n",
       "      <td>0.096360</td>\n",
       "      <td>0.104341</td>\n",
       "      <td>0.088799</td>\n",
       "      <td>0.048919</td>\n",
       "      <td>0.181162</td>\n",
       "      <td>0.062798</td>\n",
       "      <td>...</td>\n",
       "      <td>16.269190</td>\n",
       "      <td>25.677223</td>\n",
       "      <td>107.261213</td>\n",
       "      <td>880.583128</td>\n",
       "      <td>0.132369</td>\n",
       "      <td>0.254265</td>\n",
       "      <td>0.272188</td>\n",
       "      <td>0.114606</td>\n",
       "      <td>0.290076</td>\n",
       "      <td>0.083946</td>\n",
       "    </tr>\n",
       "    <tr>\n",
       "      <th>std</th>\n",
       "      <td>3.524049</td>\n",
       "      <td>4.301036</td>\n",
       "      <td>24.298981</td>\n",
       "      <td>351.914129</td>\n",
       "      <td>0.014064</td>\n",
       "      <td>0.052813</td>\n",
       "      <td>0.079720</td>\n",
       "      <td>0.038803</td>\n",
       "      <td>0.027414</td>\n",
       "      <td>0.007060</td>\n",
       "      <td>...</td>\n",
       "      <td>4.833242</td>\n",
       "      <td>6.146258</td>\n",
       "      <td>33.602542</td>\n",
       "      <td>569.356993</td>\n",
       "      <td>0.022832</td>\n",
       "      <td>0.157336</td>\n",
       "      <td>0.208624</td>\n",
       "      <td>0.065732</td>\n",
       "      <td>0.061867</td>\n",
       "      <td>0.018061</td>\n",
       "    </tr>\n",
       "    <tr>\n",
       "      <th>min</th>\n",
       "      <td>6.981000</td>\n",
       "      <td>9.710000</td>\n",
       "      <td>43.790000</td>\n",
       "      <td>143.500000</td>\n",
       "      <td>0.052630</td>\n",
       "      <td>0.019380</td>\n",
       "      <td>0.000000</td>\n",
       "      <td>0.000000</td>\n",
       "      <td>0.106000</td>\n",
       "      <td>0.049960</td>\n",
       "      <td>...</td>\n",
       "      <td>7.930000</td>\n",
       "      <td>12.020000</td>\n",
       "      <td>50.410000</td>\n",
       "      <td>185.200000</td>\n",
       "      <td>0.071170</td>\n",
       "      <td>0.027290</td>\n",
       "      <td>0.000000</td>\n",
       "      <td>0.000000</td>\n",
       "      <td>0.156500</td>\n",
       "      <td>0.055040</td>\n",
       "    </tr>\n",
       "    <tr>\n",
       "      <th>25%</th>\n",
       "      <td>11.700000</td>\n",
       "      <td>16.170000</td>\n",
       "      <td>75.170000</td>\n",
       "      <td>420.300000</td>\n",
       "      <td>0.086370</td>\n",
       "      <td>0.064920</td>\n",
       "      <td>0.029560</td>\n",
       "      <td>0.020310</td>\n",
       "      <td>0.161900</td>\n",
       "      <td>0.057700</td>\n",
       "      <td>...</td>\n",
       "      <td>13.010000</td>\n",
       "      <td>21.080000</td>\n",
       "      <td>84.110000</td>\n",
       "      <td>515.300000</td>\n",
       "      <td>0.116600</td>\n",
       "      <td>0.147200</td>\n",
       "      <td>0.114500</td>\n",
       "      <td>0.064930</td>\n",
       "      <td>0.250400</td>\n",
       "      <td>0.071460</td>\n",
       "    </tr>\n",
       "    <tr>\n",
       "      <th>50%</th>\n",
       "      <td>13.370000</td>\n",
       "      <td>18.840000</td>\n",
       "      <td>86.240000</td>\n",
       "      <td>551.100000</td>\n",
       "      <td>0.095870</td>\n",
       "      <td>0.092630</td>\n",
       "      <td>0.061540</td>\n",
       "      <td>0.033500</td>\n",
       "      <td>0.179200</td>\n",
       "      <td>0.061540</td>\n",
       "      <td>...</td>\n",
       "      <td>14.970000</td>\n",
       "      <td>25.410000</td>\n",
       "      <td>97.660000</td>\n",
       "      <td>686.500000</td>\n",
       "      <td>0.131300</td>\n",
       "      <td>0.211900</td>\n",
       "      <td>0.226700</td>\n",
       "      <td>0.099930</td>\n",
       "      <td>0.282200</td>\n",
       "      <td>0.080040</td>\n",
       "    </tr>\n",
       "    <tr>\n",
       "      <th>75%</th>\n",
       "      <td>15.780000</td>\n",
       "      <td>21.800000</td>\n",
       "      <td>104.100000</td>\n",
       "      <td>782.700000</td>\n",
       "      <td>0.105300</td>\n",
       "      <td>0.130400</td>\n",
       "      <td>0.130700</td>\n",
       "      <td>0.074000</td>\n",
       "      <td>0.195700</td>\n",
       "      <td>0.066120</td>\n",
       "      <td>...</td>\n",
       "      <td>18.790000</td>\n",
       "      <td>29.720000</td>\n",
       "      <td>125.400000</td>\n",
       "      <td>1084.000000</td>\n",
       "      <td>0.146000</td>\n",
       "      <td>0.339100</td>\n",
       "      <td>0.382900</td>\n",
       "      <td>0.161400</td>\n",
       "      <td>0.317900</td>\n",
       "      <td>0.092080</td>\n",
       "    </tr>\n",
       "    <tr>\n",
       "      <th>max</th>\n",
       "      <td>28.110000</td>\n",
       "      <td>39.280000</td>\n",
       "      <td>188.500000</td>\n",
       "      <td>2501.000000</td>\n",
       "      <td>0.163400</td>\n",
       "      <td>0.345400</td>\n",
       "      <td>0.426800</td>\n",
       "      <td>0.201200</td>\n",
       "      <td>0.304000</td>\n",
       "      <td>0.097440</td>\n",
       "      <td>...</td>\n",
       "      <td>36.040000</td>\n",
       "      <td>49.540000</td>\n",
       "      <td>251.200000</td>\n",
       "      <td>4254.000000</td>\n",
       "      <td>0.222600</td>\n",
       "      <td>1.058000</td>\n",
       "      <td>1.252000</td>\n",
       "      <td>0.291000</td>\n",
       "      <td>0.663800</td>\n",
       "      <td>0.207500</td>\n",
       "    </tr>\n",
       "  </tbody>\n",
       "</table>\n",
       "<p>8 rows × 30 columns</p>\n",
       "</div>"
      ],
      "text/plain": [
       "       radius_mean  texture_mean  perimeter_mean    area_mean  \\\n",
       "count   569.000000    569.000000      569.000000   569.000000   \n",
       "mean     14.127292     19.289649       91.969033   654.889104   \n",
       "std       3.524049      4.301036       24.298981   351.914129   \n",
       "min       6.981000      9.710000       43.790000   143.500000   \n",
       "25%      11.700000     16.170000       75.170000   420.300000   \n",
       "50%      13.370000     18.840000       86.240000   551.100000   \n",
       "75%      15.780000     21.800000      104.100000   782.700000   \n",
       "max      28.110000     39.280000      188.500000  2501.000000   \n",
       "\n",
       "       smoothness_mean  compactness_mean  concavity_mean  concave points_mean  \\\n",
       "count       569.000000        569.000000      569.000000           569.000000   \n",
       "mean          0.096360          0.104341        0.088799             0.048919   \n",
       "std           0.014064          0.052813        0.079720             0.038803   \n",
       "min           0.052630          0.019380        0.000000             0.000000   \n",
       "25%           0.086370          0.064920        0.029560             0.020310   \n",
       "50%           0.095870          0.092630        0.061540             0.033500   \n",
       "75%           0.105300          0.130400        0.130700             0.074000   \n",
       "max           0.163400          0.345400        0.426800             0.201200   \n",
       "\n",
       "       symmetry_mean  fractal_dimension_mean  ...  radius_worst  \\\n",
       "count     569.000000              569.000000  ...    569.000000   \n",
       "mean        0.181162                0.062798  ...     16.269190   \n",
       "std         0.027414                0.007060  ...      4.833242   \n",
       "min         0.106000                0.049960  ...      7.930000   \n",
       "25%         0.161900                0.057700  ...     13.010000   \n",
       "50%         0.179200                0.061540  ...     14.970000   \n",
       "75%         0.195700                0.066120  ...     18.790000   \n",
       "max         0.304000                0.097440  ...     36.040000   \n",
       "\n",
       "       texture_worst  perimeter_worst   area_worst  smoothness_worst  \\\n",
       "count     569.000000       569.000000   569.000000        569.000000   \n",
       "mean       25.677223       107.261213   880.583128          0.132369   \n",
       "std         6.146258        33.602542   569.356993          0.022832   \n",
       "min        12.020000        50.410000   185.200000          0.071170   \n",
       "25%        21.080000        84.110000   515.300000          0.116600   \n",
       "50%        25.410000        97.660000   686.500000          0.131300   \n",
       "75%        29.720000       125.400000  1084.000000          0.146000   \n",
       "max        49.540000       251.200000  4254.000000          0.222600   \n",
       "\n",
       "       compactness_worst  concavity_worst  concave points_worst  \\\n",
       "count         569.000000       569.000000            569.000000   \n",
       "mean            0.254265         0.272188              0.114606   \n",
       "std             0.157336         0.208624              0.065732   \n",
       "min             0.027290         0.000000              0.000000   \n",
       "25%             0.147200         0.114500              0.064930   \n",
       "50%             0.211900         0.226700              0.099930   \n",
       "75%             0.339100         0.382900              0.161400   \n",
       "max             1.058000         1.252000              0.291000   \n",
       "\n",
       "       symmetry_worst  fractal_dimension_worst  \n",
       "count      569.000000               569.000000  \n",
       "mean         0.290076                 0.083946  \n",
       "std          0.061867                 0.018061  \n",
       "min          0.156500                 0.055040  \n",
       "25%          0.250400                 0.071460  \n",
       "50%          0.282200                 0.080040  \n",
       "75%          0.317900                 0.092080  \n",
       "max          0.663800                 0.207500  \n",
       "\n",
       "[8 rows x 30 columns]"
      ]
     },
     "execution_count": 10,
     "metadata": {},
     "output_type": "execute_result"
    }
   ],
   "source": [
    "# Check the basic summary of the numerical columns like mean, std, minimum, maximum and quartiles\n",
    "df.describe()"
   ]
  },
  {
   "cell_type": "markdown",
   "metadata": {},
   "source": [
    "### 4. EDA"
   ]
  },
  {
   "cell_type": "markdown",
   "metadata": {},
   "source": [
    "#### with different plots we will check the features with major impact and that can be used for classification"
   ]
  },
  {
   "cell_type": "markdown",
   "metadata": {},
   "source": [
    "### for mean value of features"
   ]
  },
  {
   "cell_type": "code",
   "execution_count": 11,
   "metadata": {},
   "outputs": [
    {
     "data": {
      "image/png": "[encoded data removed]",
      "text/plain": [
       "<Figure size 720x1080 with 10 Axes>"
      ]
     },
     "metadata": {
      "needs_background": "light"
     },
     "output_type": "display_data"
    }
   ],
   "source": [
    "f,a = plt.subplots( nrows = 5, ncols = 2, figsize = (10,15))\n",
    "sns.boxplot(  y=\"diagnosis\", x= \"radius_mean\", data=df,  orient='h' , palette = 'Blues', ax=a[0][0])\n",
    "sns.boxplot(  y=\"diagnosis\", x= \"texture_mean\", data=df,  orient='h' , palette = 'Greens', ax=a[0][1])\n",
    "sns.boxplot(  y=\"diagnosis\", x= \"perimeter_mean\", data=df,  orient='h' , palette = 'Reds', ax=a[1][0])\n",
    "sns.boxplot(  y=\"diagnosis\", x= \"area_mean\", data=df,  orient='h' , palette = 'binary', ax=a[1][1])\n",
    "sns.boxplot(  y=\"diagnosis\", x= \"smoothness_mean\", data=df,  orient='h' , palette = 'Purples', ax=a[2][0])\n",
    "sns.boxplot(  y=\"diagnosis\", x= \"compactness_mean\", data=df,  orient='h' , palette = 'Blues', ax=a[2][1])\n",
    "sns.boxplot(  y=\"diagnosis\", x= \"concavity_mean\", data=df,  orient='h' , palette = 'Greens', ax=a[3][0])\n",
    "sns.boxplot(  y=\"diagnosis\", x= \"concave points_mean\", data=df,  orient='h' , palette = 'Reds', ax=a[3][1])\n",
    "sns.boxplot(  y=\"diagnosis\", x= \"symmetry_mean\", data=df,  orient='h' , palette = 'binary', ax=a[4][0])\n",
    "sns.boxplot(  y=\"diagnosis\", x= \"fractal_dimension_mean\", data=df,  orient='h' , palette = 'Purples', ax=a[4][1])\n",
    "plt.tight_layout()"
   ]
  },
  {
   "cell_type": "markdown",
   "metadata": {},
   "source": [
    "#### From the above graphs we can see that there are not any particular outilers in th data which we should remove or clean"
   ]
  },
  {
   "cell_type": "markdown",
   "metadata": {},
   "source": [
    "\n",
    "Also, we can notice that mean value of radius, perimeter, area, compactness, concavity and concave points can be used in \n",
    "classification of the cancer. As from the graph it can be observed that larger values of these features have correlation \n",
    "with malignant tumors\n",
    "\n",
    "Mean values of texture, smoothness and symmetry have some impact on classification of tumor malignant or benign\n",
    "\n",
    "But, fractal dimension mean values are not showing any particular preference for one diagnosis over other\n",
    "\n",
    "We can check these results of EDA with hypothesis testing anf later build the model on these features.\n",
    "\n"
   ]
  },
  {
   "cell_type": "markdown",
   "metadata": {},
   "source": [
    "### 5. Hypothesis building and Testing"
   ]
  },
  {
   "cell_type": "markdown",
   "metadata": {},
   "source": [
    "#### from above EDA results we can build hypothesis that\n",
    "#### 1. Values mean of radius, perimeter, area, compactness, concavity, concave points, texture, smoothness and symmetry have impact on classification of tumor malignant or benign\n",
    "\n",
    "#### 2. No difference in  fractal_dimension for benign or malignant tumor\n",
    "\n",
    "#### we will use ANOVA test to check if these hypothesis are correct or not"
   ]
  },
  {
   "cell_type": "markdown",
   "metadata": {},
   "source": [
    "### Radius_mean"
   ]
  },
  {
   "cell_type": "code",
   "execution_count": 12,
   "metadata": {
    "scrolled": true
   },
   "outputs": [
    {
     "name": "stdout",
     "output_type": "stream",
     "text": [
      "p-value for significance is:  8.46594057226382e-96\n",
      "reject null hypothesis\n",
      "Alternate hypothesis: there is difference in radius_mean for Malignant and Benign tumor\n"
     ]
    }
   ],
   "source": [
    "## ANOVA for mean_radius\n",
    "## Null hypothesis: there is no difference in radius_mean for Malignant and Benign tumor\n",
    "## Alternate hypothesis: there is difference in radius_mean for Malignant and Benign tumor\n",
    "    \n",
    "df_anova = df[['radius_mean','diagnosis']]\n",
    "grps = pd.unique(df_anova.diagnosis.values)\n",
    "d_data = {grp:df_anova['radius_mean'][df_anova.diagnosis == grp] for grp in grps}\n",
    " \n",
    "F, p = stats.f_oneway(d_data['M'], d_data['B'])\n",
    "print(\"p-value for significance is: \", p)\n",
    "if p<0.05:\n",
    "    print(\"reject null hypothesis\")\n",
    "    print(\"Alternate hypothesis: there is difference in radius_mean for Malignant and Benign tumor\")\n",
    "else:\n",
    "    print(\"accept null hypothesis\")\n",
    "    print(\"Null hypothesis: there is no difference in radius_mean for Malignant and Benign tumor\")"
   ]
  },
  {
   "cell_type": "markdown",
   "metadata": {},
   "source": [
    "### Texture_mean"
   ]
  },
  {
   "cell_type": "code",
   "execution_count": 13,
   "metadata": {
    "scrolled": false
   },
   "outputs": [
    {
     "name": "stdout",
     "output_type": "stream",
     "text": [
      "p-value for significance is:  4.0586360478986136e-25\n",
      "reject null hypothesis\n",
      "Alternate hypothesis: there is difference in texture_mean for Malignant and Benign tumor\n"
     ]
    }
   ],
   "source": [
    "## ANOVA for texture_mean\n",
    "## Null hypothesis: there is no difference in texture_mean for Malignant and Benign tumor\n",
    "## Alternate hypothesis: there is difference in texture_mean for Malignant and Benign tumor\n",
    "    \n",
    "df_anova = df[['texture_mean','diagnosis']]\n",
    "grps = pd.unique(df_anova.diagnosis.values)\n",
    "d_data = {grp:df_anova['texture_mean'][df_anova.diagnosis == grp] for grp in grps}\n",
    " \n",
    "F, p = stats.f_oneway(d_data['M'], d_data['B'])\n",
    "print(\"p-value for significance is: \", p)\n",
    "if p<0.05:\n",
    "    print(\"reject null hypothesis\")\n",
    "    print(\"Alternate hypothesis: there is difference in texture_mean for Malignant and Benign tumor\")\n",
    "else:\n",
    "    print(\"accept null hypothesis\")\n",
    "    print(\"Null hypothesis: there is no difference in texture_mean for Malignant and Benign tumor\")"
   ]
  },
  {
   "cell_type": "markdown",
   "metadata": {},
   "source": [
    "### perimeter_mean"
   ]
  },
  {
   "cell_type": "code",
   "execution_count": 14,
   "metadata": {
    "scrolled": true
   },
   "outputs": [
    {
     "name": "stdout",
     "output_type": "stream",
     "text": [
      "p-value for significance is:  8.43625103617395e-101\n",
      "reject null hypothesis\n",
      "Alternate hypothesis: there is difference in perimeter_mean for Malignant and Benign tumor\n"
     ]
    }
   ],
   "source": [
    "## ANOVA for perimeter_mean\n",
    "## Null hypothesis: there is no difference in perimeter_mean for Malignant and Benign tumor\n",
    "## Alternate hypothesis: there is difference in perimeter_mean for Malignant and Benign tumor\n",
    "    \n",
    "df_anova = df[['perimeter_mean','diagnosis']]\n",
    "grps = pd.unique(df_anova.diagnosis.values)\n",
    "d_data = {grp:df_anova['perimeter_mean'][df_anova.diagnosis == grp] for grp in grps}\n",
    " \n",
    "F, p = stats.f_oneway(d_data['M'], d_data['B'])\n",
    "print(\"p-value for significance is: \", p)\n",
    "if p<0.05:\n",
    "    print(\"reject null hypothesis\")\n",
    "    print(\"Alternate hypothesis: there is difference in perimeter_mean for Malignant and Benign tumor\")\n",
    "else:\n",
    "    print(\"accept null hypothesis\")\n",
    "    print(\"Null hypothesis: there is no difference in perimeter_mean for Malignant and Benign tumor\")"
   ]
  },
  {
   "cell_type": "markdown",
   "metadata": {},
   "source": [
    "### area_mean"
   ]
  },
  {
   "cell_type": "code",
   "execution_count": 15,
   "metadata": {
    "scrolled": true
   },
   "outputs": [
    {
     "name": "stdout",
     "output_type": "stream",
     "text": [
      "p-value for significance is:  4.7345643103077244e-88\n",
      "reject null hypothesis\n",
      "Alternate hypothesis: there is difference in area_mean for Malignant and Benign tumor\n"
     ]
    }
   ],
   "source": [
    "## ANOVA for area_mean\n",
    "## Null hypothesis: there is no difference in area_mean for Malignant and Benign tumor\n",
    "## Alternate hypothesis: there is difference in area_mean for Malignant and Benign tumor\n",
    "    \n",
    "df_anova = df[['area_mean','diagnosis']]\n",
    "grps = pd.unique(df_anova.diagnosis.values)\n",
    "d_data = {grp:df_anova['area_mean'][df_anova.diagnosis == grp] for grp in grps}\n",
    " \n",
    "F, p = stats.f_oneway(d_data['M'], d_data['B'])\n",
    "print(\"p-value for significance is: \", p)\n",
    "if p<0.05:\n",
    "    print(\"reject null hypothesis\")\n",
    "    print(\"Alternate hypothesis: there is difference in area_mean for Malignant and Benign tumor\")\n",
    "else:\n",
    "    print(\"accept null hypothesis\")\n",
    "    print(\"Null hypothesis: there is no difference in area_mean for Malignant and Benign tumor\")"
   ]
  },
  {
   "cell_type": "markdown",
   "metadata": {},
   "source": [
    "### smoothness_mean"
   ]
  },
  {
   "cell_type": "code",
   "execution_count": 16,
   "metadata": {
    "scrolled": false
   },
   "outputs": [
    {
     "name": "stdout",
     "output_type": "stream",
     "text": [
      "p-value for significance is:  1.0518503592033238e-18\n",
      "reject null hypothesis\n",
      "Alternate hypothesis: there is difference in smoothness_mean for Malignant and Benign tumor\n"
     ]
    }
   ],
   "source": [
    "## ANOVA for smoothness_mean\n",
    "## Null hypothesis: there is no difference in smoothness_mean for Malignant and Benign tumor\n",
    "## Alternate hypothesis: there is difference in smoothness_mean for Malignant and Benign tumor\n",
    "    \n",
    "df_anova = df[['smoothness_mean','diagnosis']]\n",
    "grps = pd.unique(df_anova.diagnosis.values)\n",
    "d_data = {grp:df_anova['smoothness_mean'][df_anova.diagnosis == grp] for grp in grps}\n",
    " \n",
    "F, p = stats.f_oneway(d_data['M'], d_data['B'])\n",
    "print(\"p-value for significance is: \", p)\n",
    "if p<0.05:\n",
    "    print(\"reject null hypothesis\")\n",
    "    print(\"Alternate hypothesis: there is difference in smoothness_mean for Malignant and Benign tumor\")\n",
    "else:\n",
    "    print(\"accept null hypothesis\")\n",
    "    print(\"Null hypothesis: there is no difference in smoothness_mean for Malignant and Benign tumor\")"
   ]
  },
  {
   "cell_type": "markdown",
   "metadata": {},
   "source": [
    "### compactness_mean"
   ]
  },
  {
   "cell_type": "code",
   "execution_count": 17,
   "metadata": {
    "scrolled": true
   },
   "outputs": [
    {
     "name": "stdout",
     "output_type": "stream",
     "text": [
      "p-value for significance is:  3.938263105887389e-56\n",
      "reject null hypothesis\n",
      "Alternate hypothesis: there is difference in compactness_mean for Malignant and Benign tumor\n"
     ]
    }
   ],
   "source": [
    "## ANOVA for compactness_mean\n",
    "## Null hypothesis: there is no difference in compactness_mean for Malignant and Benign tumor\n",
    "## Alternate hypothesis: there is difference in compactness_mean for Malignant and Benign tumor\n",
    "    \n",
    "df_anova = df[['compactness_mean','diagnosis']]\n",
    "grps = pd.unique(df_anova.diagnosis.values)\n",
    "d_data = {grp:df_anova['compactness_mean'][df_anova.diagnosis == grp] for grp in grps}\n",
    " \n",
    "F, p = stats.f_oneway(d_data['M'], d_data['B'])\n",
    "print(\"p-value for significance is: \", p)\n",
    "if p<0.05:\n",
    "    print(\"reject null hypothesis\")\n",
    "    print(\"Alternate hypothesis: there is difference in compactness_mean for Malignant and Benign tumor\")\n",
    "else:\n",
    "    print(\"accept null hypothesis\")\n",
    "    print(\"Null hypothesis: there is no difference in compactness_mean for Malignant and Benign tumor\")"
   ]
  },
  {
   "cell_type": "markdown",
   "metadata": {},
   "source": [
    "### concavity_mean"
   ]
  },
  {
   "cell_type": "code",
   "execution_count": 18,
   "metadata": {
    "scrolled": true
   },
   "outputs": [
    {
     "name": "stdout",
     "output_type": "stream",
     "text": [
      "p-value for significance is:  9.966555755074321e-84\n",
      "reject null hypothesis\n",
      "Alternate hypothesis: there is difference in concavity_mean for Malignant and Benign tumor\n"
     ]
    }
   ],
   "source": [
    "## ANOVA for concavity_mean\n",
    "## Null hypothesis: there is no difference in concavity_mean for Malignant and Benign tumor\n",
    "## Alternate hypothesis: there is difference in concavity_mean for Malignant and Benign tumor\n",
    "    \n",
    "df_anova = df[['concavity_mean','diagnosis']]\n",
    "grps = pd.unique(df_anova.diagnosis.values)\n",
    "d_data = {grp:df_anova['concavity_mean'][df_anova.diagnosis == grp] for grp in grps}\n",
    " \n",
    "F, p = stats.f_oneway(d_data['M'], d_data['B'])\n",
    "print(\"p-value for significance is: \", p)\n",
    "if p<0.05:\n",
    "    print(\"reject null hypothesis\")\n",
    "    print(\"Alternate hypothesis: there is difference in concavity_mean for Malignant and Benign tumor\")\n",
    "else:\n",
    "    print(\"accept null hypothesis\")\n",
    "    print(\"Null hypothesis: there is no difference in concavity_mean for Malignant and Benign tumor\")"
   ]
  },
  {
   "cell_type": "markdown",
   "metadata": {},
   "source": [
    "### concave points_mean"
   ]
  },
  {
   "cell_type": "code",
   "execution_count": 19,
   "metadata": {
    "scrolled": true
   },
   "outputs": [
    {
     "name": "stdout",
     "output_type": "stream",
     "text": [
      "p-value for significance is:  7.101150161059154e-116\n",
      "reject null hypothesis\n",
      "Alternate hypothesis: there is difference in concave points_mean for Malignant and Benign tumor\n"
     ]
    }
   ],
   "source": [
    "## ANOVA for concave points_mean\n",
    "## Null hypothesis: there is no difference in concave points_mean for Malignant and Benign tumor\n",
    "## Alternate hypothesis: there is difference in concave points_mean for Malignant and Benign tumor\n",
    "    \n",
    "df_anova = df[['concave points_mean','diagnosis']]\n",
    "grps = pd.unique(df_anova.diagnosis.values)\n",
    "d_data = {grp:df_anova['concave points_mean'][df_anova.diagnosis == grp] for grp in grps}\n",
    " \n",
    "F, p = stats.f_oneway(d_data['M'], d_data['B'])\n",
    "print(\"p-value for significance is: \", p)\n",
    "if p<0.05:\n",
    "    print(\"reject null hypothesis\")\n",
    "    print(\"Alternate hypothesis: there is difference in concave points_mean for Malignant and Benign tumor\")\n",
    "else:\n",
    "    print(\"accept null hypothesis\")\n",
    "    print(\"Null hypothesis: there is no difference in concave points_mean for Malignant and Benign tumor\")"
   ]
  },
  {
   "cell_type": "markdown",
   "metadata": {},
   "source": [
    "### symmetry_mean"
   ]
  },
  {
   "cell_type": "code",
   "execution_count": 20,
   "metadata": {
    "scrolled": true
   },
   "outputs": [
    {
     "name": "stdout",
     "output_type": "stream",
     "text": [
      "p-value for significance is:  5.73338402846732e-16\n",
      "reject null hypothesis\n",
      "Alternate hypothesis: there is difference in symmetry_mean for Malignant and Benign tumor\n"
     ]
    }
   ],
   "source": [
    "## ANOVA for symmetry_mean\n",
    "## Null hypothesis: there is no difference in symmetry_mean for Malignant and Benign tumor\n",
    "## Alternate hypothesis: there is difference in symmetry_mean for Malignant and Benign tumor\n",
    "    \n",
    "df_anova = df[['symmetry_mean','diagnosis']]\n",
    "grps = pd.unique(df_anova.diagnosis.values)\n",
    "d_data = {grp:df_anova['symmetry_mean'][df_anova.diagnosis == grp] for grp in grps}\n",
    " \n",
    "F, p = stats.f_oneway(d_data['M'], d_data['B'])\n",
    "print(\"p-value for significance is: \", p)\n",
    "if p<0.05:\n",
    "    print(\"reject null hypothesis\")\n",
    "    print(\"Alternate hypothesis: there is difference in symmetry_mean for Malignant and Benign tumor\")\n",
    "else:\n",
    "    print(\"accept null hypothesis\")\n",
    "    print(\"Null hypothesis: there is no difference in symmetry_mean for Malignant and Benign tumor\")"
   ]
  },
  {
   "cell_type": "markdown",
   "metadata": {},
   "source": [
    "### fractal_dimension_mean"
   ]
  },
  {
   "cell_type": "code",
   "execution_count": 21,
   "metadata": {
    "scrolled": true
   },
   "outputs": [
    {
     "name": "stdout",
     "output_type": "stream",
     "text": [
      "p-value for significance is:  0.7599368037255626\n",
      "accept null hypothesis\n",
      "Null hypothesis: there is no difference in fractal_dimension_mean for Malignant and Benign tumor\n"
     ]
    }
   ],
   "source": [
    "## ANOVA for fractal_dimension_mean\n",
    "## Null hypothesis: there is no difference in fractal_dimension_mean for Malignant and Benign tumor\n",
    "## Alternate hypothesis: there is difference in fractal_dimension_mean for Malignant and Benign tumor\n",
    "    \n",
    "df_anova = df[['fractal_dimension_mean','diagnosis']]\n",
    "grps = pd.unique(df_anova.diagnosis.values)\n",
    "d_data = {grp:df_anova['fractal_dimension_mean'][df_anova.diagnosis == grp] for grp in grps}\n",
    " \n",
    "F, p = stats.f_oneway(d_data['M'], d_data['B'])\n",
    "print(\"p-value for significance is: \", p)\n",
    "if p<0.05:\n",
    "    print(\"reject null hypothesis\")\n",
    "    print(\"Alternate hypothesis: there is difference in fractal_dimension_mean for Malignant and Benign tumor\")\n",
    "else:\n",
    "    print(\"accept null hypothesis\")\n",
    "    print(\"Null hypothesis: there is no difference in fractal_dimension_mean for Malignant and Benign tumor\")"
   ]
  },
  {
   "cell_type": "markdown",
   "metadata": {},
   "source": [
    "#### From the above Hypothesis test results we can see that out of 10 features of each sample, we can use 9 samples to build the clssification model. As, Fractal Dimension is not having anu particular preference we will not include this feature for our model"
   ]
  },
  {
   "cell_type": "markdown",
   "metadata": {},
   "source": [
    "column \"diagnosis\" in the dataset contains the catagorical data. \n",
    "\n",
    "it has two unique values - M for malignant and B for benign\n",
    "\n",
    "we will convert them into numbers do that predictive models can understand them better\n",
    "\n",
    "Map M -> 1 and B -> 0"
   ]
  },
  {
   "cell_type": "code",
   "execution_count": 22,
   "metadata": {
    "scrolled": true
   },
   "outputs": [
    {
     "name": "stdout",
     "output_type": "stream",
     "text": [
      "[1 0]\n"
     ]
    }
   ],
   "source": [
    "df['diagnosis'] = df['diagnosis'].map({ 'M' : 1, 'B' : 0})\n",
    "print(df.diagnosis.unique())"
   ]
  },
  {
   "cell_type": "markdown",
   "metadata": {},
   "source": [
    "### Train-Test splitting"
   ]
  },
  {
   "cell_type": "code",
   "execution_count": 23,
   "metadata": {},
   "outputs": [],
   "source": [
    "# will make tweo dataframes X and Y, X will contain all the features which will be used in classification\n",
    "# Y will contain the target variable\n",
    "X = df[[\"radius_mean\", \"texture_mean\", \"perimeter_mean\", \"area_mean\", \"smoothness_mean\", \"compactness_mean\", \n",
    "        \"concavity_mean\", \"concave points_mean\", \"symmetry_mean\"]]\n",
    "\n",
    "Y = df[[\"diagnosis\"]]"
   ]
  },
  {
   "cell_type": "code",
   "execution_count": 24,
   "metadata": {},
   "outputs": [],
   "source": [
    "X_train, X_test, Y_train, Y_test = train_test_split( X, Y, test_size = 0.25, random_state = 0 )"
   ]
  },
  {
   "cell_type": "code",
   "execution_count": 25,
   "metadata": {},
   "outputs": [
    {
     "data": {
      "text/plain": [
       "(426, 9)"
      ]
     },
     "execution_count": 25,
     "metadata": {},
     "output_type": "execute_result"
    }
   ],
   "source": [
    "X_train.shape"
   ]
  },
  {
   "cell_type": "code",
   "execution_count": 26,
   "metadata": {},
   "outputs": [
    {
     "data": {
      "text/plain": [
       "(143, 9)"
      ]
     },
     "execution_count": 26,
     "metadata": {},
     "output_type": "execute_result"
    }
   ],
   "source": [
    "X_test.shape"
   ]
  },
  {
   "cell_type": "markdown",
   "metadata": {},
   "source": [
    "### Feature scaling"
   ]
  },
  {
   "cell_type": "markdown",
   "metadata": {},
   "source": [
    "As all the features in dataset highly vary in magnitudes, units and range, they need to be brought to the same level of magnitude. So that machine learning model will consider all the features equally important.\n",
    "\n",
    "We will use Scaling to do the same and transform all features in similar scale"
   ]
  },
  {
   "cell_type": "code",
   "execution_count": 27,
   "metadata": {
    "scrolled": true
   },
   "outputs": [],
   "source": [
    "# scling all the features\n",
    "sc = StandardScaler()\n",
    "\n",
    "# Fit and Transfor Train data in a  way so that data has 0 mean and unit variance\n",
    "# Fromula used: x_scale = (x - mean)/sd\n",
    "\n",
    "X_train = sc.fit_transform(X_train)\n",
    "\n",
    "# Transform test data with the same mean and sd\n",
    "X_test = sc.transform(X_test)"
   ]
  },
  {
   "cell_type": "markdown",
   "metadata": {},
   "source": [
    "### 6. Modeling"
   ]
  },
  {
   "cell_type": "markdown",
   "metadata": {},
   "source": [
    "Mainly Machine Learning algorithms can be classified into to groups:\n",
    "1. Supervised learning\n",
    "2. Unsupervised learning\n",
    "\n",
    "In Supervised learning input and desired output data are provided and labeled. While, in unsupervised learning information is neither classified or labeled.\n",
    "\n",
    "Supervised learning algorithms can further be grouped into two main algorithms - Regression and Classification\n",
    "\n",
    "Regression problem is when output variable is continuous like 'Salary' or 'Price' and Classification problem is when output variable is category like 'Malignant' or 'Benign' in our problrm.\n",
    "\n",
    "So, here in out problem we will be using different classification algorithms and try to classify if the tumor is malignant or benign and Choose the model with best accuracy."
   ]
  },
  {
   "cell_type": "code",
   "execution_count": 28,
   "metadata": {},
   "outputs": [],
   "source": [
    "#funcction fo find accuracy from confusion matrix\n",
    "def accuracy(matrix):\n",
    "    # sum of True Negative and True Positive\n",
    "    diagonal_sum = matrix.trace()\n",
    "    \n",
    "    # sum of total\n",
    "    sum_total = matrix.sum()\n",
    "    \n",
    "    return (diagonal_sum/sum_total)*100"
   ]
  },
  {
   "cell_type": "markdown",
   "metadata": {},
   "source": [
    "#### 1. Logistic Regression"
   ]
  },
  {
   "cell_type": "code",
   "execution_count": 29,
   "metadata": {},
   "outputs": [
    {
     "name": "stdout",
     "output_type": "stream",
     "text": [
      "[[49  4]\n",
      " [ 4 86]]\n",
      "Accuracy of Logistic regresion model: 94.4055944055944 %\n"
     ]
    },
    {
     "name": "stderr",
     "output_type": "stream",
     "text": [
      "C:\\Users\\hp\\anaconda3\\lib\\site-packages\\sklearn\\utils\\validation.py:760: DataConversionWarning: A column-vector y was passed when a 1d array was expected. Please change the shape of y to (n_samples, ), for example using ravel().\n",
      "  y = column_or_1d(y, warn=True)\n"
     ]
    }
   ],
   "source": [
    "\"\"\"\n",
    "Logistic Regression predicts the probability of occurence of an event by fitting the data in logit function based on given\n",
    "independent set of variables and estimates discrete values (Binary 0/1, yes/no, T/F)  \n",
    "\"\"\"\n",
    "# Fit the model\n",
    "from sklearn.linear_model import LogisticRegression\n",
    "lr = LogisticRegression()\n",
    "lr.fit( X_train, Y_train )\n",
    "\n",
    "#predict for the test data\n",
    "Y_pred_lr = lr.predict(X_test)\n",
    "\n",
    "#confusion matrix\n",
    "cm_lr = confusion_matrix(Y_test, Y_pred_lr, labels = [1,0])\n",
    "print(cm_lr)\n",
    "\n",
    "#accuracy \n",
    "print(\"Accuracy of Logistic regresion model: \" + str(accuracy(cm_lr)) + \" %\")"
   ]
  },
  {
   "cell_type": "markdown",
   "metadata": {},
   "source": [
    "#### 2. Decision Tree"
   ]
  },
  {
   "cell_type": "code",
   "execution_count": 30,
   "metadata": {},
   "outputs": [
    {
     "name": "stdout",
     "output_type": "stream",
     "text": [
      "[[49  4]\n",
      " [ 7 83]]\n",
      "Accuracy of Decision Tree model: 92.3076923076923 %\n"
     ]
    }
   ],
   "source": [
    "\"\"\"\n",
    "Decision Tree algorithm splits the data into two or more homogeneous sets based on most significant attributes, making \n",
    "groups as distinct as possible\n",
    "\"\"\"\n",
    "# Fir the model\n",
    "from sklearn.tree import DecisionTreeClassifier\n",
    "dt = DecisionTreeClassifier()\n",
    "dt.fit( X_train, Y_train )\n",
    "\n",
    "# Predict for the test data\n",
    "Y_pred_dt = dt.predict(X_test)\n",
    "\n",
    "#Confusion Matrix\n",
    "cm_dt = confusion_matrix(Y_test, Y_pred_dt, labels = [1,0])\n",
    "print(cm_dt)\n",
    "\n",
    "#accuracy \n",
    "print(\"Accuracy of Decision Tree model: \" + str(accuracy(cm_dt)) + \" %\")"
   ]
  },
  {
   "cell_type": "markdown",
   "metadata": {},
   "source": [
    "#### 3. Naive-Bayes Classifier"
   ]
  },
  {
   "cell_type": "code",
   "execution_count": 31,
   "metadata": {
    "scrolled": true
   },
   "outputs": [
    {
     "name": "stdout",
     "output_type": "stream",
     "text": [
      "[[46  7]\n",
      " [ 6 84]]\n",
      "Accuracy of Naive-Bayes Classifier: 90.9090909090909 %\n"
     ]
    },
    {
     "name": "stderr",
     "output_type": "stream",
     "text": [
      "C:\\Users\\hp\\anaconda3\\lib\\site-packages\\sklearn\\naive_bayes.py:206: DataConversionWarning: A column-vector y was passed when a 1d array was expected. Please change the shape of y to (n_samples, ), for example using ravel().\n",
      "  y = column_or_1d(y, warn=True)\n"
     ]
    }
   ],
   "source": [
    "\"\"\"\n",
    "Naive-Bayes classifier calculates the possibility of whether a data points belongs within a certain class or not. \n",
    "It is an extension of Bayes theorem wherein each feature assumes independece\n",
    "\"\"\"\n",
    "# Fit the model\n",
    "from sklearn.naive_bayes import GaussianNB\n",
    "nb = GaussianNB()\n",
    "nb.fit( X_train, Y_train )\n",
    "\n",
    "# Predict for the test data\n",
    "Y_pred_nb = nb.predict(X_test)\n",
    "\n",
    "#Confusion Matrix\n",
    "cm_nb = confusion_matrix(Y_test, Y_pred_nb, labels = [1,0])\n",
    "print(cm_nb)\n",
    "\n",
    "#Accuracy\n",
    "print(\"Accuracy of Naive-Bayes Classifier: \" + str(accuracy(cm_nb)) + \" %\")"
   ]
  },
  {
   "cell_type": "markdown",
   "metadata": {},
   "source": [
    "#### 4. K-Nearest Neighbors"
   ]
  },
  {
   "cell_type": "code",
   "execution_count": 32,
   "metadata": {},
   "outputs": [
    {
     "name": "stdout",
     "output_type": "stream",
     "text": [
      "[[49  4]\n",
      " [10 80]]\n",
      "Accuracy of the K-Nearest Neighbor algorithm: 90.20979020979021 %\n"
     ]
    },
    {
     "name": "stderr",
     "output_type": "stream",
     "text": [
      "C:\\Users\\hp\\anaconda3\\lib\\site-packages\\ipykernel_launcher.py:8: DataConversionWarning: A column-vector y was passed when a 1d array was expected. Please change the shape of y to (n_samples, ), for example using ravel().\n",
      "  \n"
     ]
    }
   ],
   "source": [
    "\"\"\"\n",
    "K-Nearest Neighbor is a pattern recognition algorithm which basically stores all available cases to classify the new\n",
    "vase by a majority vote of its k neighbors\n",
    "\"\"\"\n",
    "# Fit the Model\n",
    "from sklearn.neighbors import KNeighborsClassifier\n",
    "knn = KNeighborsClassifier( n_neighbors = 5, metric = 'minkowski', p = 2 )\n",
    "knn.fit( X_train, Y_train )\n",
    "\n",
    "# Predict for the test data\n",
    "Y_pred_knn = knn.predict(X_test)\n",
    "\n",
    "#Confusion Matrix\n",
    "cm_knn = confusion_matrix(Y_test, Y_pred_knn, labels = [1,0])\n",
    "print(cm_knn)\n",
    "\n",
    "#accuracy\n",
    "print(\"Accuracy of the K-Nearest Neighbor algorithm: \" + str(accuracy(cm_knn)) + \" %\")"
   ]
  },
  {
   "cell_type": "markdown",
   "metadata": {},
   "source": [
    "#### 4. Support Vector Machine"
   ]
  },
  {
   "cell_type": "code",
   "execution_count": 33,
   "metadata": {},
   "outputs": [
    {
     "name": "stderr",
     "output_type": "stream",
     "text": [
      "C:\\Users\\hp\\anaconda3\\lib\\site-packages\\sklearn\\utils\\validation.py:760: DataConversionWarning: A column-vector y was passed when a 1d array was expected. Please change the shape of y to (n_samples, ), for example using ravel().\n",
      "  y = column_or_1d(y, warn=True)\n"
     ]
    },
    {
     "name": "stdout",
     "output_type": "stream",
     "text": [
      "[[47  6]\n",
      " [ 6 84]]\n",
      "Acuuracy for the Support Vector Machine: 91.6083916083916 %\n"
     ]
    }
   ],
   "source": [
    "\"\"\"\n",
    "SVM plots the each data item as a point in n-dimensional space (n is the number of features) with the value of each feature \n",
    "being the value of coordinate.\n",
    "\n",
    "After that it finds the hyperplane between different classified groups of the data. Depending on where the test data lands,\n",
    "we can claasify ther class of the data.\n",
    "\"\"\"\n",
    "# Fit the model\n",
    "from sklearn.svm import SVC\n",
    "svm = SVC( kernel = 'linear', random_state = 0 )\n",
    "svm.fit( X_train, Y_train )\n",
    "\n",
    "# Predict for the test data\n",
    "Y_pred_svm = svm.predict( X_test )\n",
    "\n",
    "# Confusion Matrix\n",
    "cm_svm = confusion_matrix( Y_test, Y_pred_svm, labels = [1,0] )\n",
    "print(cm_svm)\n",
    "\n",
    "# accuracy\n",
    "print(\"Acuuracy for the Support Vector Machine: \" + str(accuracy(cm_svm)) + \" %\")"
   ]
  },
  {
   "cell_type": "markdown",
   "metadata": {},
   "source": [
    "#### 5. Random Forest "
   ]
  },
  {
   "cell_type": "code",
   "execution_count": 34,
   "metadata": {},
   "outputs": [
    {
     "name": "stderr",
     "output_type": "stream",
     "text": [
      "C:\\Users\\hp\\anaconda3\\lib\\site-packages\\ipykernel_launcher.py:10: DataConversionWarning: A column-vector y was passed when a 1d array was expected. Please change the shape of y to (n_samples,), for example using ravel().\n",
      "  # Remove the CWD from sys.path while we load stuff.\n"
     ]
    },
    {
     "name": "stdout",
     "output_type": "stream",
     "text": [
      "[[52  1]\n",
      " [ 3 87]]\n",
      "Acuuracy for the Random Forest algorithm: 97.2027972027972 %\n"
     ]
    }
   ],
   "source": [
    "\"\"\"\n",
    "Random Forest algorithm is an expansion of decision tree. \n",
    "\n",
    "First it constructs some decision trees with the training daa. Then it fit the new data within one of the trees as\n",
    "\"Random Forest\"\n",
    "\"\"\"\n",
    "# Fit the model\n",
    "from sklearn.ensemble import RandomForestClassifier\n",
    "rf = RandomForestClassifier( n_estimators=20, random_state = 0, max_depth = 4)\n",
    "rf.fit( X_train, Y_train )\n",
    "\n",
    "# predict for the test data\n",
    "Y_pred_rf = rf.predict( X_test )\n",
    "\n",
    "# Confusion Matrix\n",
    "cm_rf = confusion_matrix( Y_test, Y_pred_rf, labels = [1,0] )\n",
    "print(cm_rf)\n",
    "\n",
    "# accuracy\n",
    "print(\"Acuuracy for the Random Forest algorithm: \" + str(accuracy(cm_rf)) + \" %\")"
   ]
  },
  {
   "cell_type": "markdown",
   "metadata": {},
   "source": [
    "Random Forest model also returns the feature important matrix which can be used to check importance of features."
   ]
  },
  {
   "cell_type": "code",
   "execution_count": 35,
   "metadata": {
    "scrolled": false
   },
   "outputs": [
    {
     "name": "stdout",
     "output_type": "stream",
     "text": [
      "concave points_mean    0.314549\n",
      "concavity_mean         0.177740\n",
      "area_mean              0.174343\n",
      "radius_mean            0.094882\n",
      "perimeter_mean         0.083440\n",
      "texture_mean           0.060642\n",
      "compactness_mean       0.058678\n",
      "smoothness_mean        0.025206\n",
      "symmetry_mean          0.010521\n",
      "dtype: float64\n"
     ]
    }
   ],
   "source": [
    "features = [\"radius_mean\", \"texture_mean\", \"perimeter_mean\", \"area_mean\", \"smoothness_mean\", \"compactness_mean\", \n",
    "            \"concavity_mean\", \"concave points_mean\", \"symmetry_mean\"]\n",
    "imp_feature = pd.Series( rf.feature_importances_, index = features ).sort_values( ascending = False )\n",
    "print(imp_feature)"
   ]
  },
  {
   "cell_type": "markdown",
   "metadata": {},
   "source": [
    "From the result we can see that there are 5 important features, highly impacting the diagnosis - concave points_mean, concavity_mean, area_mean, radius_mean, perimeter_mean"
   ]
  },
  {
   "cell_type": "code",
   "execution_count": 36,
   "metadata": {
    "scrolled": true
   },
   "outputs": [
    {
     "name": "stdout",
     "output_type": "stream",
     "text": [
      "[[52  1]\n",
      " [ 3 87]]\n"
     ]
    }
   ],
   "source": [
    "print(cm_rf)"
   ]
  },
  {
   "cell_type": "markdown",
   "metadata": {},
   "source": [
    "From the confusion matrix we can see that 52 samples were classified as malignant and were actually malignant in the test\n",
    "data and 87 were classified as benign which were actually benign. \n",
    "So, \n",
    "1. True Positive : 52 \n",
    "2. True Negative : 87\n",
    "\n",
    "ALso, out of 143 samples 4 samples were wrongly classified. \n",
    "there were 3 samples which were actually negative but classified as positive and 1 sample which was classified as negative but was positive.\n",
    "So,\n",
    "3. False Positive : 3\n",
    "4. False Negative : 1"
   ]
  },
  {
   "cell_type": "markdown",
   "metadata": {},
   "source": [
    "#### From the analysis we can see that Random Forest Model with the 9 predictors (\"radius_mean\", \"texture_mean\", \"perimeter_mean\", \"area_mean\", \"smoothness_mean\", \"compactness_mean\",  \"concavity_mean\", \"concave points_mean\", \"symmetry_mean\") is the best model to predict Breast Cancer. It gives the accuracy of 97.20 % with the test data set. "
   ]
  },
  {
   "cell_type": "code",
   "execution_count": null,
   "metadata": {},
   "outputs": [],
   "source": []
  }
 ],
 "metadata": {
  "kernelspec": {
   "display_name": "Python 3",
   "language": "python",
   "name": "python3"
  },
  "language_info": {
   "codemirror_mode": {
    "name": "ipython",
    "version": 3
   },
   "file_extension": ".py",
   "mimetype": "text/x-python",
   "name": "python",
   "nbconvert_exporter": "python",
   "pygments_lexer": "ipython3",
   "version": "3.7.6"
  }
 },
 "nbformat": 4,
 "nbformat_minor": 4
}
